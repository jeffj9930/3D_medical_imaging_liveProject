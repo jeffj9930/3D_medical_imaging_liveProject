{
  "nbformat": 4,
  "nbformat_minor": 0,
  "metadata": {
    "colab": {
      "name": "Copy of Copy of Milestone2.ipynb",
      "provenance": [],
      "collapsed_sections": [],
      "authorship_tag": "ABX9TyMr1EvjUfPzvljXIsT32Qc3",
      "include_colab_link": true
    },
    "kernelspec": {
      "name": "python3",
      "display_name": "Python 3"
    }
  },
  "cells": [
    {
      "cell_type": "markdown",
      "metadata": {
        "id": "view-in-github",
        "colab_type": "text"
      },
      "source": [
        "<a href=\"https://colab.research.google.com/github/jeffj9930/3D_MRI_medical_imaging/blob/master/dataloader-120120.ipynb\" target=\"_parent\"><img src=\"https://colab.research.google.com/assets/colab-badge.svg\" alt=\"Open In Colab\"/></a>"
      ]
    },
    {
      "cell_type": "code",
      "metadata": {
        "id": "tAK8B9j4fyzx",
        "colab": {
          "base_uri": "https://localhost:8080/"
        },
        "outputId": "83bbd8fc-bc94-4870-fc74-439c1d4bedc2"
      },
      "source": [
        "from torch.utils.data.dataset import Dataset\n",
        "from glob import glob\n",
        "import os\n",
        "import random\n",
        "from random import randint\n",
        "from google.colab import drive\n",
        "\n",
        "import nibabel as nib\n",
        "import matplotlib.pyplot as plt\n",
        "import sys\n",
        "%matplotlib inline\n",
        "\n",
        "drive.mount('/content/gdrive',force_remount=True)\n",
        "root_dir = \"/content/gdrive/My Drive/\"\n",
        "image_dir = os.path.join(root_dir,'ml_files/medical_imaging/small/')\n",
        "t1_dir = os.path.join(image_dir, 't1')\n",
        "t2_dir = os.path.join(image_dir, 't2')\n"
      ],
      "execution_count": null,
      "outputs": [
        {
          "output_type": "stream",
          "text": [
            "Mounted at /content/gdrive\n"
          ],
          "name": "stdout"
        }
      ]
    },
    {
      "cell_type": "code",
      "metadata": {
        "id": "KByxFsfvWiKO"
      },
      "source": [
        "\n",
        "class NiftiDataset(Dataset):\n",
        "    def __init__(self, source_dir, target_dir, transform=None):\n",
        "        # Set initializations\n",
        "        self.source_dir = source_dir\n",
        "        self.target_dir = target_dir\n",
        "        self.transform = transform\n",
        "        \n",
        "    def __len__(self):\n",
        "        # Return number of files in directory\n",
        "        source_files = glob(os.path.join(self.source_dir,'*'))\n",
        "        return len(source_files)\n",
        "\n",
        "    def __getitem__(self, idx):\n",
        "        # Extract full volume from patient MRI\n",
        "        source_files = glob(os.path.join(self.source_dir,'*'))\n",
        "        target_files = glob(os.path.join(self.target_dir,'*'))\n",
        "        imvol_t1 = nib.load(source_files[idx]).get_fdata()\n",
        "        imvol_t2 = nib.load(target_files[idx]).get_fdata()\n",
        "        imvols = (imvol_t1, imvol_t2)\n",
        "        if self.transform:\n",
        "          imvols = self.transform(imvols)\n",
        "        print(\"this is imvols : {} and length {}\".format(type(imvols),len(imvols)))\n",
        "        return imvols"
      ],
      "execution_count": null,
      "outputs": []
    },
    {
      "cell_type": "code",
      "metadata": {
        "id": "8Km-nL0PPYnT"
      },
      "source": [
        "\n",
        "class RandomCrop3D:\n",
        "    def __init__(self, dims):\n",
        "        if (type(dims) == int):\n",
        "          self.dims = (dims, dims, dims)\n",
        "        else:\n",
        "          assert len(dims) == 3\n",
        "          self.dims = dims\n",
        "\n",
        "    def __call__(self, sample):\n",
        "        imvol_t1, imvol_t2 = sample\n",
        "        print(type(imvol_t1),imvol_t1.shape)\n",
        "        assert imvol_t1.shape == imvol_t2.shape\n",
        "        depth, height, width = imvol_t1.shape\n",
        "        d, h, w = self.dims\n",
        "        assert ((depth > d) and (height > h) and (width > w))\n",
        "        x, y, z = (randint(0,(depth - d)), randint(0,(height - h)), randint(0,(width - w)))\n",
        "        cropvol_t1 = imvol_t1[x:x+d,y:y+h,z:z+w]\n",
        "        cropvol_t2 = imvol_t2[x:x+d,y:y+h,z:z+w]\n",
        "        print(cropvol_t1.shape, cropvol_t2.shape)\n",
        "        sample = (cropvol_t1, cropvol_t2)\n",
        "        print(\"sample type : {}\".format(type(sample)))\n",
        "        return sample\n",
        "        \n"
      ],
      "execution_count": null,
      "outputs": []
    },
    {
      "cell_type": "code",
      "metadata": {
        "colab": {
          "base_uri": "https://localhost:8080/"
        },
        "id": "jjOnzxKBWpVc",
        "outputId": "483372e8-c46f-46df-f726-9fa26d18b643"
      },
      "source": [
        "#new_sample = NiftiDataset(t1_dir, t2_dir, RandomCrop3D((10,10,10)))\n",
        "#new_sample = NiftiDataset(source_dir=t1_dir, target_dir=t2_dir,transform=RandomCrop3D((60,60,60)))\n",
        "new_sample = NiftiDataset(source_dir=t1_dir, target_dir=t2_dir,transform=RandomCrop3D(60))\n",
        "print(len(new_sample))\n",
        "cropvol_t1, cropvol_t2 = new_sample[1]\n",
        "print(\"final form : {} - {} - {}\".format(type(cropvol_t1),len(cropvol_t1),cropvol_t1.shape))\n",
        "\n"
      ],
      "execution_count": null,
      "outputs": [
        {
          "output_type": "stream",
          "text": [
            "28\n",
            "<class 'numpy.ndarray'> (120, 120, 90)\n",
            "(60, 60, 60) (60, 60, 60)\n",
            "sample type : <class 'tuple'>\n",
            "this is imvols : <class 'tuple'> and length 2\n",
            "final form : <class 'numpy.ndarray'> - 60 - (60, 60, 60)\n"
          ],
          "name": "stdout"
        }
      ]
    },
    {
      "cell_type": "code",
      "metadata": {
        "colab": {
          "base_uri": "https://localhost:8080/",
          "height": 479
        },
        "id": "4isEbO7TuK1p",
        "outputId": "2e9a3c9d-043d-4df9-f9a7-048a57c7a375"
      },
      "source": [
        "slice_t1 = cropvol_t1[:,15,:]\n",
        "slice_t2 = cropvol_t2[:,15,:]\n",
        "fig, axes = plt.subplots(1,2,figsize=(16,9))\n",
        "axes[0].imshow(slice_t1,cmap='gray');axes[0].set_title('T1',fontsize=24)\n",
        "axes[1].imshow(slice_t2,cmap='gray');axes[1].set_title('T2',fontsize=24)\n",
        "plt.show()"
      ],
      "execution_count": null,
      "outputs": [
        {
          "output_type": "display_data",
          "data": {
            "image/png": "[encoded data removed]",
            "text/plain": [
              "<Figure size 1152x648 with 2 Axes>"
            ]
          },
          "metadata": {
            "tags": [],
            "needs_background": "light"
          }
        }
      ]
    },
    {
      "cell_type": "code",
      "metadata": {
        "id": "q53Rjuc1XhAJ"
      },
      "source": [
        ""
      ],
      "execution_count": null,
      "outputs": []
    }
  ]
}