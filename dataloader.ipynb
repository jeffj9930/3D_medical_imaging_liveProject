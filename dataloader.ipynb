{
  "nbformat": 4,
  "nbformat_minor": 0,
  "metadata": {
    "colab": {
      "name": "Milestone2.ipynb",
      "provenance": [],
      "collapsed_sections": [],
      "authorship_tag": "ABX9TyPV/n47Yl03k/W2TsgLbc1W",
      "include_colab_link": true
    },
    "kernelspec": {
      "name": "python3",
      "display_name": "Python 3"
    }
  },
  "cells": [
    {
      "cell_type": "markdown",
      "metadata": {
        "id": "view-in-github",
        "colab_type": "text"
      },
      "source": [
        "<a href=\"https://colab.research.google.com/github/jeffj9930/3D_MRI_medical_imaging/blob/master/dataloader.ipynb\" target=\"_parent\"><img src=\"https://colab.research.google.com/assets/colab-badge.svg\" alt=\"Open In Colab\"/></a>"
      ]
    },
    {
      "cell_type": "code",
      "metadata": {
        "id": "tAK8B9j4fyzx"
      },
      "source": [
        "from torch.utils.data.dataset import Dataset\n",
        "\n",
        "\n",
        "class NiftiDataset(Dataset):\n",
        "    def __init__(self, source_dir, target_dir, transform=None):\n",
        "        # fill this in\n",
        "        self.source_dir = source_dir\n",
        "        self.target_dir = target_dir\n",
        "        self.transform = transform\n",
        "        self.im_files = glob(os.path.join(self.source_dir,'*'))\n",
        "\n",
        "    def __len__(self):\n",
        "        # fill this in\n",
        "        return len(self.im_files)\n",
        "\n",
        "    def __getitem__(self, idx):\n",
        "        # fill this in\n",
        "        self.im_source = self.im_files[idx,0]\n",
        "\n",
        "        if self.tranform:\n",
        "          patch = self.transform(patch)\n",
        "        return patch\n",
        "\n",
        "\n",
        "Class RandomCrop3D:\n",
        "    def __init__(self, args):\n",
        "        # fill this in\n",
        "\n",
        "    def __call__(self, sample):\n",
        "        # fill this in\n",
        "        "
      ],
      "execution_count": null,
      "outputs": []
    }
  ]
}